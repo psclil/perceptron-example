{
 "cells": [
  {
   "cell_type": "code",
   "execution_count": 1,
   "metadata": {
    "collapsed": true
   },
   "outputs": [],
   "source": [
    "%matplotlib inline\n",
    "import matplotlib.pyplot as plt\n",
    "import random\n",
    "import numpy"
   ]
  },
  {
   "cell_type": "code",
   "execution_count": 2,
   "metadata": {
    "collapsed": true
   },
   "outputs": [],
   "source": [
    "def perceptron_calc(x, w):\n",
    "    if numpy.dot(x,w)>0: return 1\n",
    "    return 0"
   ]
  },
  {
   "cell_type": "code",
   "execution_count": 3,
   "metadata": {
    "collapsed": true
   },
   "outputs": [],
   "source": [
    "def perceptron_error(samples, w):\n",
    "    return sum((abs(d-perceptron_calc(x,w)) for (x,d) in samples))/len(samples)"
   ]
  },
  {
   "cell_type": "code",
   "execution_count": 4,
   "metadata": {
    "collapsed": true
   },
   "outputs": [],
   "source": [
    "def perceptron_learn(n, samples, max_iter, max_err):\n",
    "    \"\"\"\n",
    "    returns the perceptron weights\n",
    "    \"\"\"\n",
    "    samples = [([1]+x,d) for (x,d) in samples] # insert x0=1\n",
    "    w,w2 = [random.uniform(0,1) for i in range(n+1)], [0]*(n+1) # current and next weights\n",
    "    for iter_number in range(max_iter): # limit the number of iterations\n",
    "        for (x,d) in samples: # x is the sample input and d is desired classification\n",
    "            y_diff = d-perceptron_calc(x,w)\n",
    "            if y_diff:\n",
    "                for i in range(n+1): # for each weight\n",
    "                    w2[i]=w[i]+y_diff*x[i] # update the weight\n",
    "        w,w2=w2,w # commit new weights (use old weights as temp vector to save garbage collection)\n",
    "        err = perceptron_error(samples, w)\n",
    "        if err <= max_err: return w # if perceptron has converged, finish\n",
    "    raise Exception(\"perceptron did not converge under interations limit ):\")"
   ]
  },
  {
   "cell_type": "markdown",
   "metadata": {},
   "source": [
    "-1+x-3y>=0 את הפונקציה [x,y] כעת נלמד עבור הקלט\n",
    "נשתמש ב-500 דוגמאות"
   ]
  },
  {
   "cell_type": "code",
   "execution_count": 15,
   "metadata": {
    "collapsed": false,
    "scrolled": true
   },
   "outputs": [
    {
     "name": "stdout",
     "output_type": "stream",
     "text": [
      "f([x,y]) = 1 iff -1 + (0.98)x + (-3.01)y > 0\n"
     ]
    }
   ],
   "source": [
    "samples = []\n",
    "for i in range(700):\n",
    "    x,y = random.gauss(0,5),random.gauss(0,5)\n",
    "    d = (x-3*y-1>=0) and 1 or 0\n",
    "    samples.append(([x,y], d))\n",
    "\n",
    "w = perceptron_learn(2, samples, 500, 0.002)\n",
    "# normalize\n",
    "w = [wi/-w[0] for wi in w]\n",
    "print('f([x,y]) = 1 iff %d + (%.2f)x + (%.2f)y > 0' % tuple(w))"
   ]
  },
  {
   "cell_type": "markdown",
   "metadata": {},
   "source": [
    "Let us now plot our results"
   ]
  },
  {
   "cell_type": "code",
   "execution_count": 16,
   "metadata": {
    "collapsed": false
   },
   "outputs": [
    {
     "data": {
      "image/png": "[encoded data removed]",
      "text/plain": [
       "<matplotlib.figure.Figure at 0xfef0fc2048>"
      ]
     },
     "metadata": {},
     "output_type": "display_data"
    }
   ],
   "source": [
    "s1=[s[0] for s in samples if s[1]==1]\n",
    "s2=[s[0] for s in samples if s[1]==0]\n",
    "plt.scatter([s[0] for s in s1], [s[1] for s in s1], c='r', marker='o')\n",
    "plt.scatter([s[0] for s in s2], [s[1] for s in s2], c='b', marker='^')\n",
    "sep_x = range(-20,20,1)\n",
    "sep_y = [(-w[0]-w[1]*x)/w[2] for x in sep_x]\n",
    "plt.plot(sep_x,sep_y,c='g',linewidth=2)\n",
    "plt.show()"
   ]
  },
  {
   "cell_type": "code",
   "execution_count": null,
   "metadata": {
    "collapsed": true
   },
   "outputs": [],
   "source": []
  }
 ],
 "metadata": {
  "kernelspec": {
   "display_name": "Python 3",
   "language": "python",
   "name": "python3"
  },
  "language_info": {
   "codemirror_mode": {
    "name": "ipython",
    "version": 3
   },
   "file_extension": ".py",
   "mimetype": "text/x-python",
   "name": "python",
   "nbconvert_exporter": "python",
   "pygments_lexer": "ipython3",
   "version": "3.5.2"
  }
 },
 "nbformat": 4,
 "nbformat_minor": 1
}
